{
 "cells": [
  {
   "cell_type": "code",
   "execution_count": 78,
   "metadata": {},
   "outputs": [
    {
     "data": {
      "text/plain": [
       "Unnamed: 0             0\n",
       "id                     0\n",
       "product_name           0\n",
       "category               0\n",
       "product_description    0\n",
       "price                  0\n",
       "location               0\n",
       "dtype: int64"
      ]
     },
     "execution_count": 78,
     "metadata": {},
     "output_type": "execute_result"
    }
   ],
   "source": [
    "import pandas as pd\n",
    "import numpy as np\n",
    "\n",
    "pd.set_option('display.max_columns', None)\n",
    "df = pd.read_csv(\"data/Products.csv\", lineterminator=\"\\n\")\n",
    "# print(df[\"product_name\"])\n",
    "\n",
    "# Create a copy to work on.\n",
    "df_copy = df.copy()\n",
    "\n",
    "# Strip the pound sign, remove commas from price column and convert it into a float type.\n",
    "df_copy['price'] = df_copy['price'] \\\n",
    "    .apply(lambda x: x.replace('£', '').replace(',','')) \\\n",
    "    .astype('float')\n",
    "\n",
    "# Change the type of the 'category' column to be of type 'category'.\n",
    "df_copy['category'] = df_copy['category'].astype('category')\n",
    "\n",
    "# Convert all the types of the columns to be best possible types.\n",
    "df_copy = df_copy.convert_dtypes(convert_integer=False, convert_floating=False)\n",
    "\n",
    "\n",
    "# contain_values = df_copy[df_copy['price'].str.contains(',')]\n"
   ]
  },
  {
   "cell_type": "code",
   "execution_count": 61,
   "metadata": {},
   "outputs": [
    {
     "name": "stdout",
     "output_type": "stream",
     "text": [
      "a066033-0a03-4b36-a28f-d42abf6b669d\n"
     ]
    }
   ],
   "source": [
    "img = \"a066033-0a03-4b36-a28f-d42abf6b669d.jpg\"\n",
    "\n",
    "img = img.strip('.jpg')\n",
    "print(img)\n"
   ]
  },
  {
   "cell_type": "code",
   "execution_count": null,
   "metadata": {},
   "outputs": [],
   "source": [
    "# questionable_columns = [\"BloodPressure\", \"Glucose\", \"SkinThickness\", \"Insulin\", \"BMI\"]\n",
    "# zero_counts = {col: 0 for col in questionable_columns}\n",
    "# for col in questionable_columns:\n",
    "#     zero_counts[col] = pima_df[col][pima_df[col] == 0].count()\n",
    "    \n",
    "# print(zero_counts)\n",
    "\n",
    "\n",
    "# with open('bleh.txt', 'w') as f:\n",
    "#     thing = np.sort(df_copy[\"location\"].unique())\n",
    "#     for yo in thing.tolist():\n",
    "#         f.write(yo)"
   ]
  }
 ],
 "metadata": {
  "kernelspec": {
   "display_name": "Python 3.10.6 ('ml_env')",
   "language": "python",
   "name": "python3"
  },
  "language_info": {
   "codemirror_mode": {
    "name": "ipython",
    "version": 3
   },
   "file_extension": ".py",
   "mimetype": "text/x-python",
   "name": "python",
   "nbconvert_exporter": "python",
   "pygments_lexer": "ipython3",
   "version": "3.10.6"
  },
  "orig_nbformat": 4,
  "vscode": {
   "interpreter": {
    "hash": "2187cf43466d995c11f896e875a59c955b07567e16c4d98f24ae720c97cac1e2"
   }
  }
 },
 "nbformat": 4,
 "nbformat_minor": 2
}
