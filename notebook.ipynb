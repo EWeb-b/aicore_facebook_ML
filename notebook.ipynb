{
 "cells": [
  {
   "cell_type": "code",
   "execution_count": 54,
   "metadata": {},
   "outputs": [
    {
     "name": "stdout",
     "output_type": "stream",
     "text": [
      "<class 'pandas.core.frame.DataFrame'>\n",
      "RangeIndex: 7156 entries, 0 to 7155\n",
      "Data columns (total 7 columns):\n",
      " #   Column               Non-Null Count  Dtype   \n",
      "---  ------               --------------  -----   \n",
      " 0   Unnamed: 0           7156 non-null   int64   \n",
      " 1   id                   7156 non-null   string  \n",
      " 2   product_name         7156 non-null   string  \n",
      " 3   category             7156 non-null   category\n",
      " 4   product_description  7156 non-null   string  \n",
      " 5   price                7156 non-null   float64 \n",
      " 6   location             7156 non-null   string  \n",
      "dtypes: category(1), float64(1), int64(1), string(4)\n",
      "memory usage: 369.1 KB\n"
     ]
    }
   ],
   "source": [
    "import pandas as pd\n",
    "import numpy as np\n",
    "\n",
    "pd.set_option('display.max_columns', None)\n",
    "df = pd.read_csv(\"data/Products.csv\", lineterminator=\"\\n\")\n",
    "# print(df[\"product_name\"])\n",
    "\n",
    "# Create a copy to work on.\n",
    "df_copy = df.copy()\n",
    "\n",
    "# Strip the pound sign, remove commas from price column and convert it into a float type.\n",
    "df_copy['price'] = df_copy['price'].str.strip('£')\n",
    "df_copy['price'] = df_copy['price'].str.replace(\",\", \"\")\n",
    "df_copy['price'] = df_copy['price'].astype('float64')\n",
    "\n",
    "# Change the type of the 'category' column to be of type 'category'.\n",
    "df_copy['category'] = df_copy['category'].astype('category')\n",
    "\n",
    "# Convert all the types of the columns to be best possible types.\n",
    "df_copy = df_copy.convert_dtypes(convert_integer=False, convert_floating=False)\n",
    "\n",
    "df_copy.info()\n",
    "\n",
    "\n",
    "# contain_values = df_copy[df_copy['price'].str.contains(',')]\n"
   ]
  },
  {
   "cell_type": "code",
   "execution_count": 53,
   "metadata": {},
   "outputs": [
    {
     "data": {
      "text/plain": [
       "Unnamed: 0               Int64\n",
       "id                      string\n",
       "product_name            string\n",
       "category                string\n",
       "product_description     string\n",
       "price                  Float64\n",
       "location                string\n",
       "dtype: object"
      ]
     },
     "execution_count": 53,
     "metadata": {},
     "output_type": "execute_result"
    }
   ],
   "source": []
  },
  {
   "cell_type": "code",
   "execution_count": null,
   "metadata": {},
   "outputs": [],
   "source": []
  }
 ],
 "metadata": {
  "kernelspec": {
   "display_name": "Python 3.10.6 ('ml_env')",
   "language": "python",
   "name": "python3"
  },
  "language_info": {
   "codemirror_mode": {
    "name": "ipython",
    "version": 3
   },
   "file_extension": ".py",
   "mimetype": "text/x-python",
   "name": "python",
   "nbconvert_exporter": "python",
   "pygments_lexer": "ipython3",
   "version": "3.10.6"
  },
  "orig_nbformat": 4,
  "vscode": {
   "interpreter": {
    "hash": "2187cf43466d995c11f896e875a59c955b07567e16c4d98f24ae720c97cac1e2"
   }
  }
 },
 "nbformat": 4,
 "nbformat_minor": 2
}
